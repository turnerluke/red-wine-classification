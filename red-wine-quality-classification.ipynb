{
 "cells": [
  {
   "cell_type": "markdown",
   "id": "98980197",
   "metadata": {
    "papermill": {
     "duration": 0.020202,
     "end_time": "2022-03-07T11:59:48.199690",
     "exception": false,
     "start_time": "2022-03-07T11:59:48.179488",
     "status": "completed"
    },
    "tags": []
   },
   "source": [
    "# Red Wine Quality Forecasting\n",
    "Second notebook in analysis of the UCI machine learning red wine dataset  \n",
    "See my previous exploratory data analysis notebook"
   ]
  },
  {
   "cell_type": "code",
   "execution_count": 1,
   "id": "6805da9a",
   "metadata": {
    "_cell_guid": "b1076dfc-b9ad-4769-8c92-a6c4dae69d19",
    "_uuid": "8f2839f25d086af736a60e9eeb907d3b93b6e0e5",
    "execution": {
     "iopub.execute_input": "2022-03-07T11:59:48.242369Z",
     "iopub.status.busy": "2022-03-07T11:59:48.241233Z",
     "iopub.status.idle": "2022-03-07T11:59:51.615285Z",
     "shell.execute_reply": "2022-03-07T11:59:51.614467Z",
     "shell.execute_reply.started": "2022-03-07T11:40:53.971501Z"
    },
    "papermill": {
     "duration": 3.396439,
     "end_time": "2022-03-07T11:59:51.615452",
     "exception": false,
     "start_time": "2022-03-07T11:59:48.219013",
     "status": "completed"
    },
    "tags": []
   },
   "outputs": [],
   "source": [
    "import numpy as np\n",
    "import pandas as pd\n",
    "import seaborn as sns\n",
    "import pandas_profiling\n",
    "import plotly.express as px\n",
    "import plotly.graph_objects as go\n",
    "import matplotlib.pyplot as plt\n",
    "from sklearn.metrics import plot_confusion_matrix\n",
    "from sklearn.metrics import confusion_matrix\n",
    "from sklearn.preprocessing import LabelEncoder\n",
    "from sklearn.tree import DecisionTreeClassifier\n",
    "from sklearn.model_selection import GridSearchCV\n",
    "\n",
    "import warnings\n",
    "warnings.filterwarnings(\"ignore\")"
   ]
  },
  {
   "cell_type": "code",
   "execution_count": 2,
   "id": "ec3e0a8b",
   "metadata": {
    "execution": {
     "iopub.execute_input": "2022-03-07T11:59:51.660083Z",
     "iopub.status.busy": "2022-03-07T11:59:51.659504Z",
     "iopub.status.idle": "2022-03-07T11:59:51.673935Z",
     "shell.execute_reply": "2022-03-07T11:59:51.674416Z",
     "shell.execute_reply.started": "2022-03-07T11:40:57.787833Z"
    },
    "papermill": {
     "duration": 0.039311,
     "end_time": "2022-03-07T11:59:51.674574",
     "exception": false,
     "start_time": "2022-03-07T11:59:51.635263",
     "status": "completed"
    },
    "tags": []
   },
   "outputs": [],
   "source": [
    "df = pd.read_csv(\"../input/red-wine-quality-cortez-et-al-2009/winequality-red.csv\")"
   ]
  },
  {
   "cell_type": "markdown",
   "id": "a69d975c",
   "metadata": {
    "papermill": {
     "duration": 0.018448,
     "end_time": "2022-03-07T11:59:51.711810",
     "exception": false,
     "start_time": "2022-03-07T11:59:51.693362",
     "status": "completed"
    },
    "tags": []
   },
   "source": [
    "## Use pandas profiling to get a quick summary of the data"
   ]
  },
  {
   "cell_type": "code",
   "execution_count": 3,
   "id": "d458caef",
   "metadata": {
    "execution": {
     "iopub.execute_input": "2022-03-07T11:59:51.753640Z",
     "iopub.status.busy": "2022-03-07T11:59:51.753064Z",
     "iopub.status.idle": "2022-03-07T11:59:51.755486Z",
     "shell.execute_reply": "2022-03-07T11:59:51.756030Z",
     "shell.execute_reply.started": "2022-03-07T11:40:57.812080Z"
    },
    "papermill": {
     "duration": 0.024154,
     "end_time": "2022-03-07T11:59:51.756205",
     "exception": false,
     "start_time": "2022-03-07T11:59:51.732051",
     "status": "completed"
    },
    "tags": []
   },
   "outputs": [],
   "source": [
    "# Commented out to substantially reduce runtime\n",
    "#profiling = pandas_profiling.ProfileReport(df)\n",
    "#profiling.to_file(\"profiling.html\")\n",
    "#profiling"
   ]
  },
  {
   "cell_type": "markdown",
   "id": "1c5627f5",
   "metadata": {
    "papermill": {
     "duration": 0.018867,
     "end_time": "2022-03-07T11:59:51.793664",
     "exception": false,
     "start_time": "2022-03-07T11:59:51.774797",
     "status": "completed"
    },
    "tags": []
   },
   "source": [
    "# Preprocessing\n",
    "First, lets split the quality target into a binary classification (good vs. bad).  \n",
    "Good and bad will be split by the average."
   ]
  },
  {
   "cell_type": "code",
   "execution_count": 4,
   "id": "5bbe4105",
   "metadata": {
    "execution": {
     "iopub.execute_input": "2022-03-07T11:59:51.834706Z",
     "iopub.status.busy": "2022-03-07T11:59:51.834136Z",
     "iopub.status.idle": "2022-03-07T11:59:51.870767Z",
     "shell.execute_reply": "2022-03-07T11:59:51.871218Z",
     "shell.execute_reply.started": "2022-03-07T11:40:57.817871Z"
    },
    "papermill": {
     "duration": 0.058621,
     "end_time": "2022-03-07T11:59:51.871382",
     "exception": false,
     "start_time": "2022-03-07T11:59:51.812761",
     "status": "completed"
    },
    "tags": []
   },
   "outputs": [
    {
     "data": {
      "text/html": [
       "<div>\n",
       "<style scoped>\n",
       "    .dataframe tbody tr th:only-of-type {\n",
       "        vertical-align: middle;\n",
       "    }\n",
       "\n",
       "    .dataframe tbody tr th {\n",
       "        vertical-align: top;\n",
       "    }\n",
       "\n",
       "    .dataframe thead th {\n",
       "        text-align: right;\n",
       "    }\n",
       "</style>\n",
       "<table border=\"1\" class=\"dataframe\">\n",
       "  <thead>\n",
       "    <tr style=\"text-align: right;\">\n",
       "      <th></th>\n",
       "      <th>fixed acidity</th>\n",
       "      <th>volatile acidity</th>\n",
       "      <th>citric acid</th>\n",
       "      <th>residual sugar</th>\n",
       "      <th>chlorides</th>\n",
       "      <th>free sulfur dioxide</th>\n",
       "      <th>total sulfur dioxide</th>\n",
       "      <th>density</th>\n",
       "      <th>pH</th>\n",
       "      <th>sulphates</th>\n",
       "      <th>alcohol</th>\n",
       "      <th>quality</th>\n",
       "    </tr>\n",
       "  </thead>\n",
       "  <tbody>\n",
       "    <tr>\n",
       "      <th>0</th>\n",
       "      <td>7.4</td>\n",
       "      <td>0.70</td>\n",
       "      <td>0.00</td>\n",
       "      <td>1.9</td>\n",
       "      <td>0.076</td>\n",
       "      <td>11.0</td>\n",
       "      <td>34.0</td>\n",
       "      <td>0.9978</td>\n",
       "      <td>3.51</td>\n",
       "      <td>0.56</td>\n",
       "      <td>9.4</td>\n",
       "      <td>0</td>\n",
       "    </tr>\n",
       "    <tr>\n",
       "      <th>1</th>\n",
       "      <td>7.8</td>\n",
       "      <td>0.88</td>\n",
       "      <td>0.00</td>\n",
       "      <td>2.6</td>\n",
       "      <td>0.098</td>\n",
       "      <td>25.0</td>\n",
       "      <td>67.0</td>\n",
       "      <td>0.9968</td>\n",
       "      <td>3.20</td>\n",
       "      <td>0.68</td>\n",
       "      <td>9.8</td>\n",
       "      <td>0</td>\n",
       "    </tr>\n",
       "    <tr>\n",
       "      <th>2</th>\n",
       "      <td>7.8</td>\n",
       "      <td>0.76</td>\n",
       "      <td>0.04</td>\n",
       "      <td>2.3</td>\n",
       "      <td>0.092</td>\n",
       "      <td>15.0</td>\n",
       "      <td>54.0</td>\n",
       "      <td>0.9970</td>\n",
       "      <td>3.26</td>\n",
       "      <td>0.65</td>\n",
       "      <td>9.8</td>\n",
       "      <td>0</td>\n",
       "    </tr>\n",
       "    <tr>\n",
       "      <th>3</th>\n",
       "      <td>11.2</td>\n",
       "      <td>0.28</td>\n",
       "      <td>0.56</td>\n",
       "      <td>1.9</td>\n",
       "      <td>0.075</td>\n",
       "      <td>17.0</td>\n",
       "      <td>60.0</td>\n",
       "      <td>0.9980</td>\n",
       "      <td>3.16</td>\n",
       "      <td>0.58</td>\n",
       "      <td>9.8</td>\n",
       "      <td>1</td>\n",
       "    </tr>\n",
       "    <tr>\n",
       "      <th>4</th>\n",
       "      <td>7.4</td>\n",
       "      <td>0.70</td>\n",
       "      <td>0.00</td>\n",
       "      <td>1.9</td>\n",
       "      <td>0.076</td>\n",
       "      <td>11.0</td>\n",
       "      <td>34.0</td>\n",
       "      <td>0.9978</td>\n",
       "      <td>3.51</td>\n",
       "      <td>0.56</td>\n",
       "      <td>9.4</td>\n",
       "      <td>0</td>\n",
       "    </tr>\n",
       "  </tbody>\n",
       "</table>\n",
       "</div>"
      ],
      "text/plain": [
       "   fixed acidity  volatile acidity  citric acid  residual sugar  chlorides  \\\n",
       "0            7.4              0.70         0.00             1.9      0.076   \n",
       "1            7.8              0.88         0.00             2.6      0.098   \n",
       "2            7.8              0.76         0.04             2.3      0.092   \n",
       "3           11.2              0.28         0.56             1.9      0.075   \n",
       "4            7.4              0.70         0.00             1.9      0.076   \n",
       "\n",
       "   free sulfur dioxide  total sulfur dioxide  density    pH  sulphates  \\\n",
       "0                 11.0                  34.0   0.9978  3.51       0.56   \n",
       "1                 25.0                  67.0   0.9968  3.20       0.68   \n",
       "2                 15.0                  54.0   0.9970  3.26       0.65   \n",
       "3                 17.0                  60.0   0.9980  3.16       0.58   \n",
       "4                 11.0                  34.0   0.9978  3.51       0.56   \n",
       "\n",
       "   alcohol quality  \n",
       "0      9.4       0  \n",
       "1      9.8       0  \n",
       "2      9.8       0  \n",
       "3      9.8       1  \n",
       "4      9.4       0  "
      ]
     },
     "execution_count": 4,
     "metadata": {},
     "output_type": "execute_result"
    }
   ],
   "source": [
    "avg_qual = df['quality'].mean()\n",
    "\n",
    "df['quality'] = pd.cut(df['quality'], bins=[0, avg_qual, 10], labels=[0, 1])\n",
    "df.head()"
   ]
  },
  {
   "cell_type": "code",
   "execution_count": 5,
   "id": "f4f800e0",
   "metadata": {
    "execution": {
     "iopub.execute_input": "2022-03-07T11:59:51.920561Z",
     "iopub.status.busy": "2022-03-07T11:59:51.919908Z",
     "iopub.status.idle": "2022-03-07T11:59:51.953299Z",
     "shell.execute_reply": "2022-03-07T11:59:51.953743Z",
     "shell.execute_reply.started": "2022-03-07T11:40:57.869283Z"
    },
    "papermill": {
     "duration": 0.062481,
     "end_time": "2022-03-07T11:59:51.953902",
     "exception": false,
     "start_time": "2022-03-07T11:59:51.891421",
     "status": "completed"
    },
    "tags": []
   },
   "outputs": [
    {
     "data": {
      "text/html": [
       "<div>\n",
       "<style scoped>\n",
       "    .dataframe tbody tr th:only-of-type {\n",
       "        vertical-align: middle;\n",
       "    }\n",
       "\n",
       "    .dataframe tbody tr th {\n",
       "        vertical-align: top;\n",
       "    }\n",
       "\n",
       "    .dataframe thead th {\n",
       "        text-align: right;\n",
       "    }\n",
       "</style>\n",
       "<table border=\"1\" class=\"dataframe\">\n",
       "  <thead>\n",
       "    <tr style=\"text-align: right;\">\n",
       "      <th></th>\n",
       "      <th>count</th>\n",
       "      <th>mean</th>\n",
       "      <th>std</th>\n",
       "      <th>min</th>\n",
       "      <th>25%</th>\n",
       "      <th>50%</th>\n",
       "      <th>75%</th>\n",
       "      <th>max</th>\n",
       "    </tr>\n",
       "  </thead>\n",
       "  <tbody>\n",
       "    <tr>\n",
       "      <th>fixed acidity</th>\n",
       "      <td>1599.0</td>\n",
       "      <td>8.319637</td>\n",
       "      <td>1.741096</td>\n",
       "      <td>4.60000</td>\n",
       "      <td>7.1000</td>\n",
       "      <td>7.90000</td>\n",
       "      <td>9.200000</td>\n",
       "      <td>15.90000</td>\n",
       "    </tr>\n",
       "    <tr>\n",
       "      <th>volatile acidity</th>\n",
       "      <td>1599.0</td>\n",
       "      <td>0.527821</td>\n",
       "      <td>0.179060</td>\n",
       "      <td>0.12000</td>\n",
       "      <td>0.3900</td>\n",
       "      <td>0.52000</td>\n",
       "      <td>0.640000</td>\n",
       "      <td>1.58000</td>\n",
       "    </tr>\n",
       "    <tr>\n",
       "      <th>citric acid</th>\n",
       "      <td>1599.0</td>\n",
       "      <td>0.270976</td>\n",
       "      <td>0.194801</td>\n",
       "      <td>0.00000</td>\n",
       "      <td>0.0900</td>\n",
       "      <td>0.26000</td>\n",
       "      <td>0.420000</td>\n",
       "      <td>1.00000</td>\n",
       "    </tr>\n",
       "    <tr>\n",
       "      <th>residual sugar</th>\n",
       "      <td>1599.0</td>\n",
       "      <td>2.538806</td>\n",
       "      <td>1.409928</td>\n",
       "      <td>0.90000</td>\n",
       "      <td>1.9000</td>\n",
       "      <td>2.20000</td>\n",
       "      <td>2.600000</td>\n",
       "      <td>15.50000</td>\n",
       "    </tr>\n",
       "    <tr>\n",
       "      <th>chlorides</th>\n",
       "      <td>1599.0</td>\n",
       "      <td>0.087467</td>\n",
       "      <td>0.047065</td>\n",
       "      <td>0.01200</td>\n",
       "      <td>0.0700</td>\n",
       "      <td>0.07900</td>\n",
       "      <td>0.090000</td>\n",
       "      <td>0.61100</td>\n",
       "    </tr>\n",
       "    <tr>\n",
       "      <th>free sulfur dioxide</th>\n",
       "      <td>1599.0</td>\n",
       "      <td>15.874922</td>\n",
       "      <td>10.460157</td>\n",
       "      <td>1.00000</td>\n",
       "      <td>7.0000</td>\n",
       "      <td>14.00000</td>\n",
       "      <td>21.000000</td>\n",
       "      <td>72.00000</td>\n",
       "    </tr>\n",
       "    <tr>\n",
       "      <th>total sulfur dioxide</th>\n",
       "      <td>1599.0</td>\n",
       "      <td>46.467792</td>\n",
       "      <td>32.895324</td>\n",
       "      <td>6.00000</td>\n",
       "      <td>22.0000</td>\n",
       "      <td>38.00000</td>\n",
       "      <td>62.000000</td>\n",
       "      <td>289.00000</td>\n",
       "    </tr>\n",
       "    <tr>\n",
       "      <th>density</th>\n",
       "      <td>1599.0</td>\n",
       "      <td>0.996747</td>\n",
       "      <td>0.001887</td>\n",
       "      <td>0.99007</td>\n",
       "      <td>0.9956</td>\n",
       "      <td>0.99675</td>\n",
       "      <td>0.997835</td>\n",
       "      <td>1.00369</td>\n",
       "    </tr>\n",
       "    <tr>\n",
       "      <th>pH</th>\n",
       "      <td>1599.0</td>\n",
       "      <td>3.311113</td>\n",
       "      <td>0.154386</td>\n",
       "      <td>2.74000</td>\n",
       "      <td>3.2100</td>\n",
       "      <td>3.31000</td>\n",
       "      <td>3.400000</td>\n",
       "      <td>4.01000</td>\n",
       "    </tr>\n",
       "    <tr>\n",
       "      <th>sulphates</th>\n",
       "      <td>1599.0</td>\n",
       "      <td>0.658149</td>\n",
       "      <td>0.169507</td>\n",
       "      <td>0.33000</td>\n",
       "      <td>0.5500</td>\n",
       "      <td>0.62000</td>\n",
       "      <td>0.730000</td>\n",
       "      <td>2.00000</td>\n",
       "    </tr>\n",
       "    <tr>\n",
       "      <th>alcohol</th>\n",
       "      <td>1599.0</td>\n",
       "      <td>10.422983</td>\n",
       "      <td>1.065668</td>\n",
       "      <td>8.40000</td>\n",
       "      <td>9.5000</td>\n",
       "      <td>10.20000</td>\n",
       "      <td>11.100000</td>\n",
       "      <td>14.90000</td>\n",
       "    </tr>\n",
       "  </tbody>\n",
       "</table>\n",
       "</div>"
      ],
      "text/plain": [
       "                       count       mean        std      min      25%  \\\n",
       "fixed acidity         1599.0   8.319637   1.741096  4.60000   7.1000   \n",
       "volatile acidity      1599.0   0.527821   0.179060  0.12000   0.3900   \n",
       "citric acid           1599.0   0.270976   0.194801  0.00000   0.0900   \n",
       "residual sugar        1599.0   2.538806   1.409928  0.90000   1.9000   \n",
       "chlorides             1599.0   0.087467   0.047065  0.01200   0.0700   \n",
       "free sulfur dioxide   1599.0  15.874922  10.460157  1.00000   7.0000   \n",
       "total sulfur dioxide  1599.0  46.467792  32.895324  6.00000  22.0000   \n",
       "density               1599.0   0.996747   0.001887  0.99007   0.9956   \n",
       "pH                    1599.0   3.311113   0.154386  2.74000   3.2100   \n",
       "sulphates             1599.0   0.658149   0.169507  0.33000   0.5500   \n",
       "alcohol               1599.0  10.422983   1.065668  8.40000   9.5000   \n",
       "\n",
       "                           50%        75%        max  \n",
       "fixed acidity          7.90000   9.200000   15.90000  \n",
       "volatile acidity       0.52000   0.640000    1.58000  \n",
       "citric acid            0.26000   0.420000    1.00000  \n",
       "residual sugar         2.20000   2.600000   15.50000  \n",
       "chlorides              0.07900   0.090000    0.61100  \n",
       "free sulfur dioxide   14.00000  21.000000   72.00000  \n",
       "total sulfur dioxide  38.00000  62.000000  289.00000  \n",
       "density                0.99675   0.997835    1.00369  \n",
       "pH                     3.31000   3.400000    4.01000  \n",
       "sulphates              0.62000   0.730000    2.00000  \n",
       "alcohol               10.20000  11.100000   14.90000  "
      ]
     },
     "execution_count": 5,
     "metadata": {},
     "output_type": "execute_result"
    }
   ],
   "source": [
    "df.describe().T"
   ]
  },
  {
   "cell_type": "markdown",
   "id": "21e7836a",
   "metadata": {
    "papermill": {
     "duration": 0.020324,
     "end_time": "2022-03-07T11:59:51.994204",
     "exception": false,
     "start_time": "2022-03-07T11:59:51.973880",
     "status": "completed"
    },
    "tags": []
   },
   "source": [
    "The mean values and standard deviations of the independent variables vary heavily - we should standardize"
   ]
  },
  {
   "cell_type": "markdown",
   "id": "c30d64d7",
   "metadata": {
    "papermill": {
     "duration": 0.020708,
     "end_time": "2022-03-07T11:59:52.035305",
     "exception": false,
     "start_time": "2022-03-07T11:59:52.014597",
     "status": "completed"
    },
    "tags": []
   },
   "source": [
    "## Standardize and divide the dataset into train & test sets for target and variables"
   ]
  },
  {
   "cell_type": "code",
   "execution_count": 6,
   "id": "aea75ce0",
   "metadata": {
    "execution": {
     "iopub.execute_input": "2022-03-07T11:59:52.089852Z",
     "iopub.status.busy": "2022-03-07T11:59:52.088828Z",
     "iopub.status.idle": "2022-03-07T11:59:52.098565Z",
     "shell.execute_reply": "2022-03-07T11:59:52.099005Z",
     "shell.execute_reply.started": "2022-03-07T11:40:57.914673Z"
    },
    "papermill": {
     "duration": 0.040864,
     "end_time": "2022-03-07T11:59:52.099239",
     "exception": false,
     "start_time": "2022-03-07T11:59:52.058375",
     "status": "completed"
    },
    "tags": []
   },
   "outputs": [],
   "source": [
    "from sklearn.model_selection import train_test_split \n",
    "target = 'quality'\n",
    "X = df.drop([target], axis=1)\n",
    "y = df[target]\n",
    "\n",
    "from sklearn.preprocessing import StandardScaler\n",
    "std = StandardScaler()\n",
    "X = std.fit_transform(X)\n",
    "\n",
    "# 75% train, 25% test\n",
    "X_train, X_test, y_train, y_test = train_test_split(X, y, test_size=0.25, stratify=y, random_state=42)"
   ]
  },
  {
   "cell_type": "markdown",
   "id": "85619570",
   "metadata": {
    "papermill": {
     "duration": 0.020344,
     "end_time": "2022-03-07T11:59:52.140222",
     "exception": false,
     "start_time": "2022-03-07T11:59:52.119878",
     "status": "completed"
    },
    "tags": []
   },
   "source": [
    "# 1. Linear Regression"
   ]
  },
  {
   "cell_type": "code",
   "execution_count": 7,
   "id": "72fbcba3",
   "metadata": {
    "execution": {
     "iopub.execute_input": "2022-03-07T11:59:52.187446Z",
     "iopub.status.busy": "2022-03-07T11:59:52.186801Z",
     "iopub.status.idle": "2022-03-07T11:59:52.206340Z",
     "shell.execute_reply": "2022-03-07T11:59:52.207248Z",
     "shell.execute_reply.started": "2022-03-07T11:40:57.931904Z"
    },
    "papermill": {
     "duration": 0.046437,
     "end_time": "2022-03-07T11:59:52.207495",
     "exception": false,
     "start_time": "2022-03-07T11:59:52.161058",
     "status": "completed"
    },
    "tags": []
   },
   "outputs": [
    {
     "name": "stdout",
     "output_type": "stream",
     "text": [
      "Accuracy on test data:  0.3071106494075897\n"
     ]
    }
   ],
   "source": [
    "from sklearn.linear_model import LinearRegression\n",
    "linreg = LinearRegression()\n",
    "linreg.fit(X_train, y_train)\n",
    "\n",
    "print(\"Accuracy on test data: \", linreg.score(X_test, y_test))"
   ]
  },
  {
   "cell_type": "markdown",
   "id": "1e94c5cb",
   "metadata": {
    "papermill": {
     "duration": 0.037772,
     "end_time": "2022-03-07T11:59:52.283363",
     "exception": false,
     "start_time": "2022-03-07T11:59:52.245591",
     "status": "completed"
    },
    "tags": []
   },
   "source": [
    "The linear regression is quite terrible as expected. Recall the pandas profiling output relationships."
   ]
  },
  {
   "cell_type": "markdown",
   "id": "cd8c6a85",
   "metadata": {
    "papermill": {
     "duration": 0.020135,
     "end_time": "2022-03-07T11:59:52.339110",
     "exception": false,
     "start_time": "2022-03-07T11:59:52.318975",
     "status": "completed"
    },
    "tags": []
   },
   "source": [
    "# 2: Logistic Regression"
   ]
  },
  {
   "cell_type": "code",
   "execution_count": 8,
   "id": "79825e1e",
   "metadata": {
    "execution": {
     "iopub.execute_input": "2022-03-07T11:59:52.383732Z",
     "iopub.status.busy": "2022-03-07T11:59:52.383193Z",
     "iopub.status.idle": "2022-03-07T11:59:52.795868Z",
     "shell.execute_reply": "2022-03-07T11:59:52.795406Z",
     "shell.execute_reply.started": "2022-03-07T11:40:57.958946Z"
    },
    "papermill": {
     "duration": 0.435409,
     "end_time": "2022-03-07T11:59:52.796001",
     "exception": false,
     "start_time": "2022-03-07T11:59:52.360592",
     "status": "completed"
    },
    "tags": []
   },
   "outputs": [
    {
     "name": "stdout",
     "output_type": "stream",
     "text": [
      "Tuned hyperparameters:  {'C': 0.1, 'penalty': 'l2', 'solver': 'sag'}\n",
      "Accuracy on test data:  0.7325\n"
     ]
    },
    {
     "data": {
      "text/plain": [
       "<sklearn.metrics._plot.confusion_matrix.ConfusionMatrixDisplay at 0x7f112682bbd0>"
      ]
     },
     "execution_count": 8,
     "metadata": {},
     "output_type": "execute_result"
    },
    {
     "data": {
      "image/png": "[encoded data removed]",
      "text/plain": [
       "<Figure size 432x288 with 2 Axes>"
      ]
     },
     "metadata": {
      "needs_background": "light"
     },
     "output_type": "display_data"
    }
   ],
   "source": [
    "from sklearn.linear_model import LogisticRegression\n",
    "parameters = {\"C\": [0.01, 0.1, 1], 'penalty': ['l2'], 'solver': ['sag']}\n",
    "logreg = LogisticRegression()\n",
    "logreg_cv = GridSearchCV(logreg, parameters, cv=10).fit(X_train, y_train)\n",
    "\n",
    "\n",
    "print(\"Tuned hyperparameters: \", logreg_cv.best_params_)\n",
    "print(\"Accuracy on test data: \", logreg_cv.score(X_test, y_test))\n",
    "\n",
    "plot_confusion_matrix(logreg_cv, X_test, y_test)"
   ]
  },
  {
   "cell_type": "markdown",
   "id": "a0012d16",
   "metadata": {
    "papermill": {
     "duration": 0.021798,
     "end_time": "2022-03-07T11:59:52.839769",
     "exception": false,
     "start_time": "2022-03-07T11:59:52.817971",
     "status": "completed"
    },
    "tags": []
   },
   "source": [
    "Not bad  \n",
    "Model reports a similar amount of false negatives & positives"
   ]
  },
  {
   "cell_type": "markdown",
   "id": "e914b497",
   "metadata": {
    "papermill": {
     "duration": 0.022677,
     "end_time": "2022-03-07T11:59:52.885305",
     "exception": false,
     "start_time": "2022-03-07T11:59:52.862628",
     "status": "completed"
    },
    "tags": []
   },
   "source": [
    "# 3. Support Vector Machines"
   ]
  },
  {
   "cell_type": "code",
   "execution_count": 9,
   "id": "2440ca55",
   "metadata": {
    "execution": {
     "iopub.execute_input": "2022-03-07T11:59:52.937426Z",
     "iopub.status.busy": "2022-03-07T11:59:52.936113Z",
     "iopub.status.idle": "2022-03-07T11:59:53.611323Z",
     "shell.execute_reply": "2022-03-07T11:59:53.611783Z",
     "shell.execute_reply.started": "2022-03-07T11:40:58.412435Z"
    },
    "papermill": {
     "duration": 0.703942,
     "end_time": "2022-03-07T11:59:53.611949",
     "exception": false,
     "start_time": "2022-03-07T11:59:52.908007",
     "status": "completed"
    },
    "tags": []
   },
   "outputs": [
    {
     "name": "stdout",
     "output_type": "stream",
     "text": [
      "Tuned hyperparameters:  {'C': 1, 'gamma': 1, 'kernel': 'linear'}\n",
      "Accuracy on test data:  0.7375\n"
     ]
    },
    {
     "data": {
      "text/plain": [
       "<sklearn.metrics._plot.confusion_matrix.ConfusionMatrixDisplay at 0x7f10f8535f10>"
      ]
     },
     "execution_count": 9,
     "metadata": {},
     "output_type": "execute_result"
    },
    {
     "data": {
      "image/png": "[encoded data removed]",
      "text/plain": [
       "<Figure size 432x288 with 2 Axes>"
      ]
     },
     "metadata": {
      "needs_background": "light"
     },
     "output_type": "display_data"
    }
   ],
   "source": [
    "from sklearn.svm import SVC\n",
    "parameters = {'kernel': ['linear'],\n",
    "              'C': [1],\n",
    "              'gamma': [1]}  # Parameters are not iterated upon for computational power limits\n",
    "svm = SVC()\n",
    "svm_cv = GridSearchCV(svm, parameters, cv=10).fit(X_train, y_train)\n",
    "print(\"Tuned hyperparameters: \", svm_cv.best_params_)\n",
    "print(\"Accuracy on test data: \", svm_cv.score(X_test, y_test))\n",
    "\n",
    "plot_confusion_matrix(svm_cv, X_test, y_test)"
   ]
  },
  {
   "cell_type": "markdown",
   "id": "ece6fc71",
   "metadata": {
    "papermill": {
     "duration": 0.0245,
     "end_time": "2022-03-07T11:59:53.661065",
     "exception": false,
     "start_time": "2022-03-07T11:59:53.636565",
     "status": "completed"
    },
    "tags": []
   },
   "source": [
    "# 4. Decision Tree Classifier"
   ]
  },
  {
   "cell_type": "code",
   "execution_count": 10,
   "id": "8af01233",
   "metadata": {
    "execution": {
     "iopub.execute_input": "2022-03-07T11:59:53.713991Z",
     "iopub.status.busy": "2022-03-07T11:59:53.713074Z",
     "iopub.status.idle": "2022-03-07T12:00:12.066225Z",
     "shell.execute_reply": "2022-03-07T12:00:12.066741Z",
     "shell.execute_reply.started": "2022-03-07T11:40:59.120713Z"
    },
    "papermill": {
     "duration": 18.381081,
     "end_time": "2022-03-07T12:00:12.066910",
     "exception": false,
     "start_time": "2022-03-07T11:59:53.685829",
     "status": "completed"
    },
    "tags": []
   },
   "outputs": [
    {
     "name": "stdout",
     "output_type": "stream",
     "text": [
      "Tuned hyperparameters:  {'criterion': 'entropy', 'max_depth': 14, 'max_features': 'sqrt', 'min_samples_leaf': 1, 'min_samples_split': 2, 'splitter': 'best'}\n",
      "Accuracy on test data:  0.73\n"
     ]
    },
    {
     "data": {
      "text/plain": [
       "<sklearn.metrics._plot.confusion_matrix.ConfusionMatrixDisplay at 0x7f10f8c3b4d0>"
      ]
     },
     "execution_count": 10,
     "metadata": {},
     "output_type": "execute_result"
    },
    {
     "data": {
      "image/png": "[encoded data removed]",
      "text/plain": [
       "<Figure size 432x288 with 2 Axes>"
      ]
     },
     "metadata": {
      "needs_background": "light"
     },
     "output_type": "display_data"
    }
   ],
   "source": [
    "from sklearn.tree import DecisionTreeClassifier\n",
    "parameters = {'criterion': ['gini', 'entropy'],\n",
    "     'splitter': ['best', 'random'],\n",
    "     'max_depth': [2*n for n in range(1,10)],\n",
    "     'max_features': ['auto', 'sqrt'],\n",
    "     'min_samples_leaf': [1, 2, 4],\n",
    "     'min_samples_split': [2, 5, 10]}\n",
    "\n",
    "tree = DecisionTreeClassifier()\n",
    "tree_cv = GridSearchCV(tree, parameters, cv=10).fit(X_train, y_train)\n",
    "print(\"Tuned hyperparameters: \", tree_cv.best_params_)\n",
    "print(\"Accuracy on test data: \", tree_cv.score(X_test, y_test))\n",
    "\n",
    "plot_confusion_matrix(tree_cv, X_test, y_test)"
   ]
  },
  {
   "cell_type": "markdown",
   "id": "d2f246c1",
   "metadata": {
    "papermill": {
     "duration": 0.02538,
     "end_time": "2022-03-07T12:00:12.118835",
     "exception": false,
     "start_time": "2022-03-07T12:00:12.093455",
     "status": "completed"
    },
    "tags": []
   },
   "source": [
    "# 5. K-Nearest Neighbors"
   ]
  },
  {
   "cell_type": "code",
   "execution_count": 11,
   "id": "ebd280d9",
   "metadata": {
    "execution": {
     "iopub.execute_input": "2022-03-07T12:00:12.173689Z",
     "iopub.status.busy": "2022-03-07T12:00:12.172799Z",
     "iopub.status.idle": "2022-03-07T12:00:21.336678Z",
     "shell.execute_reply": "2022-03-07T12:00:21.337203Z",
     "shell.execute_reply.started": "2022-03-07T11:41:18.492081Z"
    },
    "papermill": {
     "duration": 9.193448,
     "end_time": "2022-03-07T12:00:21.337379",
     "exception": false,
     "start_time": "2022-03-07T12:00:12.143931",
     "status": "completed"
    },
    "tags": []
   },
   "outputs": [
    {
     "name": "stdout",
     "output_type": "stream",
     "text": [
      "Tuned hyperparameters:  {'algorithm': 'auto', 'n_neighbors': 1, 'p': 2}\n",
      "Accuracy on test data:  0.765\n"
     ]
    },
    {
     "data": {
      "text/plain": [
       "<sklearn.metrics._plot.confusion_matrix.ConfusionMatrixDisplay at 0x7f10ee322510>"
      ]
     },
     "execution_count": 11,
     "metadata": {},
     "output_type": "execute_result"
    },
    {
     "data": {
      "image/png": "[encoded data removed]",
      "text/plain": [
       "<Figure size 432x288 with 2 Axes>"
      ]
     },
     "metadata": {
      "needs_background": "light"
     },
     "output_type": "display_data"
    }
   ],
   "source": [
    "from sklearn.neighbors import KNeighborsClassifier\n",
    "parameters = {'n_neighbors': [1, 2, 3, 4, 5, 6, 7, 8, 9, 10],\n",
    "              'algorithm': ['auto', 'ball_tree', 'kd_tree', 'brute'],\n",
    "              'p': [1,2]}\n",
    "\n",
    "KNN = KNeighborsClassifier()\n",
    "knn_cv = GridSearchCV(KNN, parameters, cv=10).fit(X_train, y_train)\n",
    "print(\"Tuned hyperparameters: \",knn_cv.best_params_)\n",
    "print(\"Accuracy on test data: \",knn_cv.score(X_test, y_test))\n",
    "\n",
    "plot_confusion_matrix(knn_cv, X_test, y_test)"
   ]
  },
  {
   "cell_type": "code",
   "execution_count": 12,
   "id": "b3625234",
   "metadata": {
    "execution": {
     "iopub.execute_input": "2022-03-07T12:00:21.401814Z",
     "iopub.status.busy": "2022-03-07T12:00:21.400938Z",
     "iopub.status.idle": "2022-03-07T12:00:21.433561Z",
     "shell.execute_reply": "2022-03-07T12:00:21.434259Z",
     "shell.execute_reply.started": "2022-03-07T11:41:27.769340Z"
    },
    "papermill": {
     "duration": 0.069231,
     "end_time": "2022-03-07T12:00:21.434459",
     "exception": false,
     "start_time": "2022-03-07T12:00:21.365228",
     "status": "completed"
    },
    "tags": []
   },
   "outputs": [
    {
     "name": "stdout",
     "output_type": "stream",
     "text": [
      "Model:  Linear Regression\n",
      "Score:  0.3071106494075897\n",
      "\n",
      "Model:  Logistic Regression\n",
      "Score:  0.7325\n",
      "\n",
      "Model:  Support Vector Classifier\n",
      "Score:  0.7375\n",
      "\n",
      "Model:  Decision Tree\n",
      "Score:  0.73\n",
      "\n",
      "Model:  k-Nearest Neighbors\n",
      "Score:  0.765\n",
      "\n"
     ]
    }
   ],
   "source": [
    "mod_names = [\"Linear Regression\", \"Logistic Regression\", \"Support Vector Classifier\", \"Decision Tree\", \"k-Nearest Neighbors\"]\n",
    "mods = [linreg, logreg_cv, svm_cv, tree_cv, knn_cv]\n",
    "\n",
    "scores = [mod.score(X_test, y_test) for mod in mods]\n",
    "\n",
    "for mod_name, score in zip(mod_names, scores):\n",
    "    print(\"Model: \", mod_name)\n",
    "    print(\"Score: \", score)\n",
    "    print(\"\")"
   ]
  },
  {
   "cell_type": "markdown",
   "id": "959e47ff",
   "metadata": {
    "papermill": {
     "duration": 0.027136,
     "end_time": "2022-03-07T12:00:21.489585",
     "exception": false,
     "start_time": "2022-03-07T12:00:21.462449",
     "status": "completed"
    },
    "tags": []
   },
   "source": [
    "knn provides the best prediction accuracy at 76.5%  \n",
    "\n",
    "-Turner Luke  \n",
    "Thanks for viewing, keep in touch  \n",
    "https://www.linkedin.com/in/turnermluke/  \n",
    "https://github.com/turnerluke  \n",
    "https://www.kaggle.com/turnerluke  "
   ]
  }
 ],
 "metadata": {
  "kernelspec": {
   "display_name": "Python 3",
   "language": "python",
   "name": "python3"
  },
  "language_info": {
   "codemirror_mode": {
    "name": "ipython",
    "version": 3
   },
   "file_extension": ".py",
   "mimetype": "text/x-python",
   "name": "python",
   "nbconvert_exporter": "python",
   "pygments_lexer": "ipython3",
   "version": "3.7.12"
  },
  "papermill": {
   "default_parameters": {},
   "duration": 43.292815,
   "end_time": "2022-03-07T12:00:22.527103",
   "environment_variables": {},
   "exception": null,
   "input_path": "__notebook__.ipynb",
   "output_path": "__notebook__.ipynb",
   "parameters": {},
   "start_time": "2022-03-07T11:59:39.234288",
   "version": "2.3.3"
  }
 },
 "nbformat": 4,
 "nbformat_minor": 5
}
